{
 "cells": [
  {
   "cell_type": "code",
   "execution_count": null,
   "id": "0749c46b-6710-4fe1-a900-79ef06b981bd",
   "metadata": {},
   "outputs": [],
   "source": []
  }
 ],
 "metadata": {
  "kernelspec": {
   "display_name": "",
   "name": ""
  },
  "language_info": {
   "name": ""
  }
 },
 "nbformat": 4,
 "nbformat_minor": 5
}
